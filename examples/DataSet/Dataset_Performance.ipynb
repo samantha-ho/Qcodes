{
 "cells": [
  {
   "cell_type": "markdown",
   "metadata": {},
   "source": [
    "# DataSet Performance\n",
    "\n",
    "This notebook shows the trade-off between inserting data into a database row-by-row and as binary blobs. Inserting the data row-by-row means that we have direct access to all the data and may perform queries directly on the values of the data. On the other hand, as we shall see, this is much slower than inserting the data directly as binary blobs."
   ]
  },
  {
   "cell_type": "markdown",
   "metadata": {},
   "source": [
    "First, we choose a new location for the database to ensure that we don't add a bunch of benchmarking data to the default one."
   ]
  },
  {
   "cell_type": "code",
   "execution_count": 1,
   "metadata": {
    "execution": {
     "iopub.execute_input": "2024-04-22T23:24:11.477168Z",
     "iopub.status.busy": "2024-04-22T23:24:11.476764Z",
     "iopub.status.idle": "2024-04-22T23:24:12.358567Z",
     "shell.execute_reply": "2024-04-22T23:24:12.357986Z"
    }
   },
   "outputs": [
    {
     "name": "stdout",
     "output_type": "stream",
     "text": [
      "Logging hadn't been started.\n",
      "Activating auto-logging. Current session state plus future input saved.\n",
      "Filename       : /home/runner/.qcodes/logs/command_history.log\n",
      "Mode           : append\n",
      "Output logging : True\n",
      "Raw input log  : False\n",
      "Timestamping   : True\n",
      "State          : active\n"
     ]
    },
    {
     "name": "stdout",
     "output_type": "stream",
     "text": [
      "Qcodes Logfile : /home/runner/.qcodes/logs/240422-13965-qcodes.log\n"
     ]
    }
   ],
   "source": [
    "import os\n",
    "\n",
    "cwd = os.getcwd()\n",
    "import qcodes as qc\n",
    "\n",
    "qc.config[\"core\"][\"db_location\"] = os.path.join(cwd, 'testing.db')"
   ]
  },
  {
   "cell_type": "code",
   "execution_count": 2,
   "metadata": {
    "execution": {
     "iopub.execute_input": "2024-04-22T23:24:12.361027Z",
     "iopub.status.busy": "2024-04-22T23:24:12.360606Z",
     "iopub.status.idle": "2024-04-22T23:24:12.650746Z",
     "shell.execute_reply": "2024-04-22T23:24:12.649949Z"
    }
   },
   "outputs": [],
   "source": [
    "%matplotlib inline\n",
    "import time\n",
    "from pathlib import Path\n",
    "\n",
    "import matplotlib.pyplot as plt\n",
    "import numpy as np\n",
    "\n",
    "import qcodes as qc\n",
    "from qcodes.dataset import (\n",
    "    Measurement,\n",
    "    initialise_or_create_database_at,\n",
    "    load_or_create_experiment,\n",
    ")\n",
    "from qcodes.parameters import ManualParameter"
   ]
  },
  {
   "cell_type": "code",
   "execution_count": 3,
   "metadata": {
    "execution": {
     "iopub.execute_input": "2024-04-22T23:24:12.653867Z",
     "iopub.status.busy": "2024-04-22T23:24:12.653501Z",
     "iopub.status.idle": "2024-04-22T23:24:12.688319Z",
     "shell.execute_reply": "2024-04-22T23:24:12.687749Z"
    }
   },
   "outputs": [],
   "source": [
    "initialise_or_create_database_at(Path.cwd() / \"dataset_performance.db\")\n",
    "exp = load_or_create_experiment(experiment_name='tutorial_exp', sample_name=\"no sample\")"
   ]
  },
  {
   "cell_type": "markdown",
   "metadata": {},
   "source": [
    "Here, we define a simple function to benchmark the time it takes to insert n points with either numeric or array data type.\n",
    "We will compare both the time used to call ``add_result`` and the time used for the full measurement."
   ]
  },
  {
   "cell_type": "code",
   "execution_count": 4,
   "metadata": {
    "execution": {
     "iopub.execute_input": "2024-04-22T23:24:12.691208Z",
     "iopub.status.busy": "2024-04-22T23:24:12.690778Z",
     "iopub.status.idle": "2024-04-22T23:24:12.696825Z",
     "shell.execute_reply": "2024-04-22T23:24:12.696124Z"
    }
   },
   "outputs": [],
   "source": [
    "def insert_data(paramtype, npoints, nreps=1):\n",
    "\n",
    "    meas = Measurement(exp=exp)\n",
    "\n",
    "    x1 = ManualParameter('x1')\n",
    "    x2 = ManualParameter('x2')\n",
    "    x3 = ManualParameter('x3')\n",
    "    y1 = ManualParameter('y1')\n",
    "    y2 = ManualParameter('y2')\n",
    "\n",
    "    meas.register_parameter(x1, paramtype=paramtype)\n",
    "    meas.register_parameter(x2, paramtype=paramtype)\n",
    "    meas.register_parameter(x3, paramtype=paramtype)\n",
    "    meas.register_parameter(y1, setpoints=[x1, x2, x3],\n",
    "                            paramtype=paramtype)\n",
    "    meas.register_parameter(y2, setpoints=[x1, x2, x3],\n",
    "                            paramtype=paramtype)\n",
    "    start = time.perf_counter()\n",
    "    with meas.run() as datasaver:\n",
    "        start_adding = time.perf_counter()\n",
    "        for i in range(nreps):\n",
    "            datasaver.add_result((x1, np.random.rand(npoints)),\n",
    "                                 (x2, np.random.rand(npoints)),\n",
    "                                 (x3, np.random.rand(npoints)),\n",
    "                                 (y1, np.random.rand(npoints)),\n",
    "                                 (y2, np.random.rand(npoints)))\n",
    "        stop_adding = time.perf_counter()\n",
    "        run_id = datasaver.run_id\n",
    "    stop = time.perf_counter()\n",
    "    tot_time = stop - start\n",
    "    add_time = stop_adding - start_adding\n",
    "    return tot_time, add_time, run_id"
   ]
  },
  {
   "cell_type": "markdown",
   "metadata": {},
   "source": [
    "## Comparison between numeric/array data and binary blob"
   ]
  },
  {
   "cell_type": "markdown",
   "metadata": {},
   "source": [
    "### Case1: Short experiment time"
   ]
  },
  {
   "cell_type": "code",
   "execution_count": 5,
   "metadata": {
    "execution": {
     "iopub.execute_input": "2024-04-22T23:24:12.698958Z",
     "iopub.status.busy": "2024-04-22T23:24:12.698745Z",
     "iopub.status.idle": "2024-04-22T23:24:13.102163Z",
     "shell.execute_reply": "2024-04-22T23:24:13.101659Z"
    }
   },
   "outputs": [
    {
     "name": "stdout",
     "output_type": "stream",
     "text": [
      "Starting experimental run with id: 1. \n",
      "Starting experimental run with id: 2. \n",
      "Starting experimental run with id: 3. \n",
      "Starting experimental run with id: 4. \n",
      "Starting experimental run with id: 5. \n",
      "Starting experimental run with id: 6. \n",
      "Starting experimental run with id: 7. \n",
      "Starting experimental run with id: 8. \n",
      "Starting experimental run with id: 9. \n"
     ]
    },
    {
     "name": "stdout",
     "output_type": "stream",
     "text": [
      "Starting experimental run with id: 10. \n",
      "Starting experimental run with id: 11. \n",
      "Starting experimental run with id: 12. \n",
      "Starting experimental run with id: 13. \n",
      "Starting experimental run with id: 14. \n"
     ]
    }
   ],
   "source": [
    "sizes = [1,500,1000,2000,3000,4000,5000]\n",
    "t_numeric = []\n",
    "t_numeric_add = []\n",
    "t_array = []\n",
    "t_array_add = []\n",
    "for size in sizes:\n",
    "    tn, tna, run_id_n =  insert_data('numeric', size)\n",
    "    t_numeric.append(tn)\n",
    "    t_numeric_add.append(tna)\n",
    "\n",
    "    ta, taa, run_id_a =  insert_data('array', size)\n",
    "    t_array.append(ta)\n",
    "    t_array_add.append(taa)"
   ]
  },
  {
   "cell_type": "code",
   "execution_count": 6,
   "metadata": {
    "execution": {
     "iopub.execute_input": "2024-04-22T23:24:13.104339Z",
     "iopub.status.busy": "2024-04-22T23:24:13.104057Z",
     "iopub.status.idle": "2024-04-22T23:24:13.324033Z",
     "shell.execute_reply": "2024-04-22T23:24:13.323431Z"
    }
   },
   "outputs": [
    {
     "data": {
      "image/png": "[encoded data removed]",
      "text/plain": [
       "<Figure size 640x480 with 1 Axes>"
      ]
     },
     "metadata": {},
     "output_type": "display_data"
    }
   ],
   "source": [
    "fig, ax = plt.subplots(1,1)\n",
    "ax.plot(sizes, t_numeric, 'o-', label='Inserting row-by-row')\n",
    "ax.plot(sizes, t_numeric_add, 'o-', label='Inserting row-by-row: add_result only')\n",
    "ax.plot(sizes, t_array, 'd-', label='Inserting as binary blob')\n",
    "ax.plot(sizes, t_array_add, 'd-', label='Inserting as binary blob: add_result only')\n",
    "ax.legend()\n",
    "ax.set_xlabel('Array length')\n",
    "ax.set_ylabel('Time (s)')\n",
    "fig.tight_layout()"
   ]
  },
  {
   "cell_type": "markdown",
   "metadata": {},
   "source": [
    "As shown in the latter figure, the time to setup and and close the experiment is approximately 0.4 sec. In case of small array sizes, the difference between inserting values of data as arrays and inserting them row-by-row is relatively unimportant. At larger array sizes, i.e. above 10000 points, the cost of writing data as individual datapoints starts to become important.\n"
   ]
  },
  {
   "cell_type": "markdown",
   "metadata": {},
   "source": [
    "### Case2: Long experiment time "
   ]
  },
  {
   "cell_type": "code",
   "execution_count": 7,
   "metadata": {
    "execution": {
     "iopub.execute_input": "2024-04-22T23:24:13.326636Z",
     "iopub.status.busy": "2024-04-22T23:24:13.326456Z",
     "iopub.status.idle": "2024-04-22T23:24:31.949579Z",
     "shell.execute_reply": "2024-04-22T23:24:31.948928Z"
    }
   },
   "outputs": [
    {
     "name": "stdout",
     "output_type": "stream",
     "text": [
      "Starting experimental run with id: 15. \n",
      "Starting experimental run with id: 16. \n",
      "Starting experimental run with id: 17. \n"
     ]
    },
    {
     "name": "stdout",
     "output_type": "stream",
     "text": [
      "Starting experimental run with id: 18. \n",
      "Starting experimental run with id: 19. \n"
     ]
    },
    {
     "name": "stdout",
     "output_type": "stream",
     "text": [
      "Starting experimental run with id: 20. \n",
      "Starting experimental run with id: 21. \n"
     ]
    },
    {
     "name": "stdout",
     "output_type": "stream",
     "text": [
      "Starting experimental run with id: 22. \n",
      "Starting experimental run with id: 23. \n"
     ]
    },
    {
     "name": "stdout",
     "output_type": "stream",
     "text": [
      "Starting experimental run with id: 24. \n"
     ]
    },
    {
     "name": "stdout",
     "output_type": "stream",
     "text": [
      "Starting experimental run with id: 25. \n"
     ]
    },
    {
     "name": "stdout",
     "output_type": "stream",
     "text": [
      "Starting experimental run with id: 26. \n"
     ]
    },
    {
     "name": "stdout",
     "output_type": "stream",
     "text": [
      "Starting experimental run with id: 27. \n"
     ]
    },
    {
     "name": "stdout",
     "output_type": "stream",
     "text": [
      "Starting experimental run with id: 28. \n"
     ]
    }
   ],
   "source": [
    "sizes = [1,500,1000,2000,3000,4000,5000]\n",
    "nreps = 100\n",
    "t_numeric = []\n",
    "t_numeric_add = []\n",
    "t_numeric_run_ids = []\n",
    "t_array = []\n",
    "t_array_add = []\n",
    "t_array_run_ids = []\n",
    "for size in sizes:\n",
    "    tn, tna, run_id_n =  insert_data('numeric', size, nreps=nreps)\n",
    "    t_numeric.append(tn)\n",
    "    t_numeric_add.append(tna)\n",
    "    t_numeric_run_ids.append(run_id_n)\n",
    "\n",
    "    ta, taa, run_id_a =  insert_data('array', size, nreps=nreps)\n",
    "    t_array.append(ta)\n",
    "    t_array_add.append(taa)\n",
    "    t_array_run_ids.append(run_id_a)"
   ]
  },
  {
   "cell_type": "code",
   "execution_count": 8,
   "metadata": {
    "execution": {
     "iopub.execute_input": "2024-04-22T23:24:31.952286Z",
     "iopub.status.busy": "2024-04-22T23:24:31.951877Z",
     "iopub.status.idle": "2024-04-22T23:24:32.149352Z",
     "shell.execute_reply": "2024-04-22T23:24:32.148798Z"
    },
    "scrolled": true
   },
   "outputs": [
    {
     "data": {
      "image/png": "[encoded data removed]",
      "text/plain": [
       "<Figure size 640x480 with 1 Axes>"
      ]
     },
     "metadata": {},
     "output_type": "display_data"
    }
   ],
   "source": [
    "fig, ax = plt.subplots(1,1)\n",
    "ax.plot(sizes, t_numeric, 'o-', label='Inserting row-by-row')\n",
    "ax.plot(sizes, t_numeric_add, 'o-', label='Inserting row-by-row: add_result only')\n",
    "ax.plot(sizes, t_array, 'd-', label='Inserting as binary blob')\n",
    "ax.plot(sizes, t_array_add, 'd-', label='Inserting as binary blob: add_result only')\n",
    "ax.legend()\n",
    "ax.set_xlabel('Array length')\n",
    "ax.set_ylabel('Time (s)')\n",
    "fig.tight_layout()"
   ]
  },
  {
   "cell_type": "markdown",
   "metadata": {},
   "source": [
    "However, as we increase the length of the experiment, as seen here by repeating the insertion 100 times, we see a big difference between inserting values of the data row-by-row and inserting it as a binary blob."
   ]
  },
  {
   "cell_type": "markdown",
   "metadata": {},
   "source": [
    "## Loading the data "
   ]
  },
  {
   "cell_type": "code",
   "execution_count": 9,
   "metadata": {
    "execution": {
     "iopub.execute_input": "2024-04-22T23:24:32.151758Z",
     "iopub.status.busy": "2024-04-22T23:24:32.151381Z",
     "iopub.status.idle": "2024-04-22T23:24:32.154506Z",
     "shell.execute_reply": "2024-04-22T23:24:32.153979Z"
    }
   },
   "outputs": [],
   "source": [
    "from qcodes.dataset import load_by_id"
   ]
  },
  {
   "cell_type": "markdown",
   "metadata": {},
   "source": [
    "As usual you can load the data by using the ``load_by_id`` function but you will notice that the different storage methods\n",
    "are reflected in shape of the data as it is retrieved. "
   ]
  },
  {
   "cell_type": "code",
   "execution_count": 10,
   "metadata": {
    "execution": {
     "iopub.execute_input": "2024-04-22T23:24:32.156605Z",
     "iopub.status.busy": "2024-04-22T23:24:32.156429Z",
     "iopub.status.idle": "2024-04-22T23:24:32.159482Z",
     "shell.execute_reply": "2024-04-22T23:24:32.158962Z"
    }
   },
   "outputs": [],
   "source": [
    "run_id_n = t_numeric_run_ids[0]\n",
    "run_id_a = t_array_run_ids[0]"
   ]
  },
  {
   "cell_type": "code",
   "execution_count": 11,
   "metadata": {
    "execution": {
     "iopub.execute_input": "2024-04-22T23:24:32.161614Z",
     "iopub.status.busy": "2024-04-22T23:24:32.161448Z",
     "iopub.status.idle": "2024-04-22T23:24:32.169710Z",
     "shell.execute_reply": "2024-04-22T23:24:32.169169Z"
    },
    "scrolled": true
   },
   "outputs": [
    {
     "data": {
      "text/plain": [
       "{'x1': {'x1': array([0.75685959, 0.75685959, 0.35047746, 0.35047746, 0.31705972,\n",
       "         0.31705972, 0.90724258, 0.90724258, 0.42390677, 0.42390677,\n",
       "         0.46912076, 0.46912076, 0.4133719 , 0.4133719 , 0.07117467,\n",
       "         0.07117467, 0.49354116, 0.49354116, 0.34047038, 0.34047038,\n",
       "         0.0168523 , 0.0168523 , 0.29931478, 0.29931478, 0.01856861,\n",
       "         0.01856861, 0.74705284, 0.74705284, 0.70157357, 0.70157357,\n",
       "         0.41818732, 0.41818732, 0.86613248, 0.86613248, 0.56731875,\n",
       "         0.56731875, 0.83996319, 0.83996319, 0.20341713, 0.20341713,\n",
       "         0.24617633, 0.24617633, 0.72743757, 0.72743757, 0.6716023 ,\n",
       "         0.6716023 , 0.20467945, 0.20467945, 0.29612985, 0.29612985,\n",
       "         0.15430617, 0.15430617, 0.81739629, 0.81739629, 0.45493618,\n",
       "         0.45493618, 0.16766774, 0.16766774, 0.66356766, 0.66356766,\n",
       "         0.52357187, 0.52357187, 0.98894168, 0.98894168, 0.89603164,\n",
       "         0.89603164, 0.45571394, 0.45571394, 0.97573107, 0.97573107,\n",
       "         0.35295588, 0.35295588, 0.20447354, 0.20447354, 0.72816694,\n",
       "         0.72816694, 0.63635194, 0.63635194, 0.63192484, 0.63192484,\n",
       "         0.92915487, 0.92915487, 0.27220861, 0.27220861, 0.69420497,\n",
       "         0.69420497, 0.23957154, 0.23957154, 0.18942679, 0.18942679,\n",
       "         0.11193835, 0.11193835, 0.34428894, 0.34428894, 0.02139796,\n",
       "         0.02139796, 0.06064063, 0.06064063, 0.35243062, 0.35243062,\n",
       "         0.51610283, 0.51610283, 0.1421263 , 0.1421263 , 0.59736849,\n",
       "         0.59736849, 0.02785692, 0.02785692, 0.15595642, 0.15595642,\n",
       "         0.07103965, 0.07103965, 0.54167338, 0.54167338, 0.09660309,\n",
       "         0.09660309, 0.80535581, 0.80535581, 0.91565433, 0.91565433,\n",
       "         0.89906349, 0.89906349, 0.40533713, 0.40533713, 0.05125897,\n",
       "         0.05125897, 0.81643614, 0.81643614, 0.28628405, 0.28628405,\n",
       "         0.00615868, 0.00615868, 0.20784619, 0.20784619, 0.57927854,\n",
       "         0.57927854, 0.91379243, 0.91379243, 0.66290989, 0.66290989,\n",
       "         0.55828044, 0.55828044, 0.5176504 , 0.5176504 , 0.80943285,\n",
       "         0.80943285, 0.20925496, 0.20925496, 0.66974953, 0.66974953,\n",
       "         0.80465194, 0.80465194, 0.989937  , 0.989937  , 0.19290955,\n",
       "         0.19290955, 0.06301274, 0.06301274, 0.69546331, 0.69546331,\n",
       "         0.81494673, 0.81494673, 0.25318608, 0.25318608, 0.83036437,\n",
       "         0.83036437, 0.73297952, 0.73297952, 0.55869009, 0.55869009,\n",
       "         0.73548085, 0.73548085, 0.19130424, 0.19130424, 0.99355964,\n",
       "         0.99355964, 0.74961725, 0.74961725, 0.06566607, 0.06566607,\n",
       "         0.84188126, 0.84188126, 0.3398471 , 0.3398471 , 0.49668254,\n",
       "         0.49668254, 0.06079116, 0.06079116, 0.65767151, 0.65767151,\n",
       "         0.72081113, 0.72081113, 0.84417941, 0.84417941, 0.55550778,\n",
       "         0.55550778, 0.20266581, 0.20266581, 0.38836373, 0.38836373])}}"
      ]
     },
     "execution_count": 11,
     "metadata": {},
     "output_type": "execute_result"
    }
   ],
   "source": [
    "ds = load_by_id(run_id_n)\n",
    "ds.get_parameter_data('x1')"
   ]
  },
  {
   "cell_type": "markdown",
   "metadata": {},
   "source": [
    "And a dataset stored as binary arrays"
   ]
  },
  {
   "cell_type": "code",
   "execution_count": 12,
   "metadata": {
    "execution": {
     "iopub.execute_input": "2024-04-22T23:24:32.172052Z",
     "iopub.status.busy": "2024-04-22T23:24:32.171594Z",
     "iopub.status.idle": "2024-04-22T23:24:32.190579Z",
     "shell.execute_reply": "2024-04-22T23:24:32.190002Z"
    },
    "scrolled": true
   },
   "outputs": [
    {
     "data": {
      "text/plain": [
       "{'x1': {'x1': array([[8.96989867e-02],\n",
       "         [8.96989867e-02],\n",
       "         [9.65286592e-01],\n",
       "         [9.65286592e-01],\n",
       "         [1.46739290e-01],\n",
       "         [1.46739290e-01],\n",
       "         [9.79156218e-01],\n",
       "         [9.79156218e-01],\n",
       "         [9.46536009e-01],\n",
       "         [9.46536009e-01],\n",
       "         [5.98751405e-01],\n",
       "         [5.98751405e-01],\n",
       "         [8.94199842e-01],\n",
       "         [8.94199842e-01],\n",
       "         [7.51501137e-01],\n",
       "         [7.51501137e-01],\n",
       "         [6.43414106e-01],\n",
       "         [6.43414106e-01],\n",
       "         [1.46928268e-01],\n",
       "         [1.46928268e-01],\n",
       "         [6.19117880e-01],\n",
       "         [6.19117880e-01],\n",
       "         [7.81546906e-01],\n",
       "         [7.81546906e-01],\n",
       "         [5.65281294e-01],\n",
       "         [5.65281294e-01],\n",
       "         [9.85920765e-01],\n",
       "         [9.85920765e-01],\n",
       "         [2.17570003e-01],\n",
       "         [2.17570003e-01],\n",
       "         [2.57112662e-01],\n",
       "         [2.57112662e-01],\n",
       "         [8.58162446e-01],\n",
       "         [8.58162446e-01],\n",
       "         [3.99335658e-01],\n",
       "         [3.99335658e-01],\n",
       "         [1.95828107e-01],\n",
       "         [1.95828107e-01],\n",
       "         [4.21173191e-01],\n",
       "         [4.21173191e-01],\n",
       "         [8.06559469e-01],\n",
       "         [8.06559469e-01],\n",
       "         [1.00163059e-01],\n",
       "         [1.00163059e-01],\n",
       "         [5.14687000e-01],\n",
       "         [5.14687000e-01],\n",
       "         [2.88853175e-02],\n",
       "         [2.88853175e-02],\n",
       "         [2.77994473e-01],\n",
       "         [2.77994473e-01],\n",
       "         [8.81826003e-02],\n",
       "         [8.81826003e-02],\n",
       "         [4.73711014e-02],\n",
       "         [4.73711014e-02],\n",
       "         [4.59323786e-01],\n",
       "         [4.59323786e-01],\n",
       "         [3.59008186e-01],\n",
       "         [3.59008186e-01],\n",
       "         [7.73683134e-01],\n",
       "         [7.73683134e-01],\n",
       "         [7.81679784e-01],\n",
       "         [7.81679784e-01],\n",
       "         [6.57054764e-01],\n",
       "         [6.57054764e-01],\n",
       "         [1.80602407e-01],\n",
       "         [1.80602407e-01],\n",
       "         [6.46172987e-01],\n",
       "         [6.46172987e-01],\n",
       "         [4.14910797e-02],\n",
       "         [4.14910797e-02],\n",
       "         [6.65871031e-01],\n",
       "         [6.65871031e-01],\n",
       "         [3.84588359e-01],\n",
       "         [3.84588359e-01],\n",
       "         [4.69579972e-02],\n",
       "         [4.69579972e-02],\n",
       "         [1.83415015e-01],\n",
       "         [1.83415015e-01],\n",
       "         [5.75104316e-01],\n",
       "         [5.75104316e-01],\n",
       "         [9.43552504e-01],\n",
       "         [9.43552504e-01],\n",
       "         [8.16153183e-01],\n",
       "         [8.16153183e-01],\n",
       "         [8.02513323e-01],\n",
       "         [8.02513323e-01],\n",
       "         [2.08821060e-01],\n",
       "         [2.08821060e-01],\n",
       "         [7.91480134e-01],\n",
       "         [7.91480134e-01],\n",
       "         [4.87912158e-01],\n",
       "         [4.87912158e-01],\n",
       "         [3.73105167e-01],\n",
       "         [3.73105167e-01],\n",
       "         [3.60901355e-02],\n",
       "         [3.60901355e-02],\n",
       "         [9.14808757e-01],\n",
       "         [9.14808757e-01],\n",
       "         [9.91625141e-01],\n",
       "         [9.91625141e-01],\n",
       "         [3.51979947e-01],\n",
       "         [3.51979947e-01],\n",
       "         [3.78724754e-01],\n",
       "         [3.78724754e-01],\n",
       "         [4.57789649e-01],\n",
       "         [4.57789649e-01],\n",
       "         [5.72712339e-01],\n",
       "         [5.72712339e-01],\n",
       "         [5.43335390e-01],\n",
       "         [5.43335390e-01],\n",
       "         [9.66062214e-01],\n",
       "         [9.66062214e-01],\n",
       "         [5.41102837e-01],\n",
       "         [5.41102837e-01],\n",
       "         [1.05773633e-01],\n",
       "         [1.05773633e-01],\n",
       "         [2.97331404e-01],\n",
       "         [2.97331404e-01],\n",
       "         [6.81778527e-01],\n",
       "         [6.81778527e-01],\n",
       "         [7.50679049e-01],\n",
       "         [7.50679049e-01],\n",
       "         [8.83272286e-01],\n",
       "         [8.83272286e-01],\n",
       "         [9.80045256e-01],\n",
       "         [9.80045256e-01],\n",
       "         [3.17022301e-01],\n",
       "         [3.17022301e-01],\n",
       "         [4.52354172e-01],\n",
       "         [4.52354172e-01],\n",
       "         [5.42258514e-01],\n",
       "         [5.42258514e-01],\n",
       "         [2.82750295e-01],\n",
       "         [2.82750295e-01],\n",
       "         [5.32911567e-02],\n",
       "         [5.32911567e-02],\n",
       "         [8.86108014e-01],\n",
       "         [8.86108014e-01],\n",
       "         [1.82251601e-01],\n",
       "         [1.82251601e-01],\n",
       "         [3.74244785e-01],\n",
       "         [3.74244785e-01],\n",
       "         [7.37322997e-01],\n",
       "         [7.37322997e-01],\n",
       "         [6.03976855e-01],\n",
       "         [6.03976855e-01],\n",
       "         [7.25417876e-01],\n",
       "         [7.25417876e-01],\n",
       "         [9.85196456e-01],\n",
       "         [9.85196456e-01],\n",
       "         [1.84164294e-01],\n",
       "         [1.84164294e-01],\n",
       "         [5.03490848e-01],\n",
       "         [5.03490848e-01],\n",
       "         [3.51038808e-01],\n",
       "         [3.51038808e-01],\n",
       "         [8.50638942e-01],\n",
       "         [8.50638942e-01],\n",
       "         [6.42182879e-01],\n",
       "         [6.42182879e-01],\n",
       "         [3.56302232e-04],\n",
       "         [3.56302232e-04],\n",
       "         [4.44533821e-01],\n",
       "         [4.44533821e-01],\n",
       "         [5.86485199e-01],\n",
       "         [5.86485199e-01],\n",
       "         [7.44097654e-01],\n",
       "         [7.44097654e-01],\n",
       "         [5.84346148e-01],\n",
       "         [5.84346148e-01],\n",
       "         [1.75264083e-01],\n",
       "         [1.75264083e-01],\n",
       "         [8.74450737e-01],\n",
       "         [8.74450737e-01],\n",
       "         [6.96892335e-01],\n",
       "         [6.96892335e-01],\n",
       "         [9.76217344e-01],\n",
       "         [9.76217344e-01],\n",
       "         [1.26157655e-01],\n",
       "         [1.26157655e-01],\n",
       "         [5.93644252e-01],\n",
       "         [5.93644252e-01],\n",
       "         [4.49834429e-03],\n",
       "         [4.49834429e-03],\n",
       "         [4.37993391e-02],\n",
       "         [4.37993391e-02],\n",
       "         [7.26447728e-01],\n",
       "         [7.26447728e-01],\n",
       "         [5.44269419e-01],\n",
       "         [5.44269419e-01],\n",
       "         [6.88329276e-01],\n",
       "         [6.88329276e-01],\n",
       "         [9.94313673e-01],\n",
       "         [9.94313673e-01],\n",
       "         [9.60190060e-01],\n",
       "         [9.60190060e-01],\n",
       "         [1.03111445e-01],\n",
       "         [1.03111445e-01],\n",
       "         [6.54852818e-01],\n",
       "         [6.54852818e-01]])}}"
      ]
     },
     "execution_count": 12,
     "metadata": {},
     "output_type": "execute_result"
    }
   ],
   "source": [
    "ds = load_by_id(run_id_a)\n",
    "ds.get_parameter_data('x1')"
   ]
  },
  {
   "cell_type": "code",
   "execution_count": null,
   "metadata": {},
   "outputs": [],
   "source": []
  }
 ],
 "metadata": {
  "kernelspec": {
   "display_name": "Python 3",
   "language": "python",
   "name": "python3"
  },
  "language_info": {
   "codemirror_mode": {
    "name": "ipython",
    "version": 3
   },
   "file_extension": ".py",
   "mimetype": "text/x-python",
   "name": "python",
   "nbconvert_exporter": "python",
   "pygments_lexer": "ipython3",
   "version": "3.11.9"
  },
  "nbsphinx": {
   "timeout": 600
  },
  "toc": {
   "base_numbering": 1,
   "nav_menu": {},
   "number_sections": true,
   "sideBar": true,
   "skip_h1_title": false,
   "title_cell": "Table of Contents",
   "title_sidebar": "Contents",
   "toc_cell": false,
   "toc_position": {},
   "toc_section_display": true,
   "toc_window_display": false
  },
  "varInspector": {
   "cols": {
    "lenName": 16,
    "lenType": 16,
    "lenVar": 40
   },
   "kernels_config": {
    "python": {
     "delete_cmd_postfix": "",
     "delete_cmd_prefix": "del ",
     "library": "var_list.py",
     "varRefreshCmd": "print(var_dic_list())"
    },
    "r": {
     "delete_cmd_postfix": ") ",
     "delete_cmd_prefix": "rm(",
     "library": "var_list.r",
     "varRefreshCmd": "cat(var_dic_list()) "
    }
   },
   "types_to_exclude": [
    "module",
    "function",
    "builtin_function_or_method",
    "instance",
    "_Feature"
   ],
   "window_display": false
  }
 },
 "nbformat": 4,
 "nbformat_minor": 4
}
