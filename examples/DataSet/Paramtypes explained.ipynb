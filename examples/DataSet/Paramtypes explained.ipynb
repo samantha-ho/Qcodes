{
 "cells": [
  {
   "cell_type": "markdown",
   "metadata": {},
   "source": [
    "# Paramtypes explained\n",
    "\n",
    "Internally in the SQLite database on disk, data are registered as being of one of (currently) four allowed types:\n",
    "\n",
    "- `numeric`\n",
    "- `array`\n",
    "- `text`\n",
    "- `complex`\n",
    "\n",
    "This notebook seeks to exemplify when each type should be used, and how differently the `Measurement` object treats data of each type.\n",
    "\n",
    "We start with necessary imports, and then initialising our database and creating an experiment."
   ]
  },
  {
   "cell_type": "code",
   "execution_count": 1,
   "metadata": {
    "execution": {
     "iopub.execute_input": "2024-04-22T23:25:34.601729Z",
     "iopub.status.busy": "2024-04-22T23:25:34.601379Z",
     "iopub.status.idle": "2024-04-22T23:25:35.452996Z",
     "shell.execute_reply": "2024-04-22T23:25:35.452334Z"
    }
   },
   "outputs": [
    {
     "name": "stdout",
     "output_type": "stream",
     "text": [
      "Logging hadn't been started.\n",
      "Activating auto-logging. Current session state plus future input saved.\n",
      "Filename       : /home/runner/.qcodes/logs/command_history.log\n",
      "Mode           : append\n",
      "Output logging : True\n",
      "Raw input log  : False\n",
      "Timestamping   : True\n",
      "State          : active\n"
     ]
    },
    {
     "name": "stdout",
     "output_type": "stream",
     "text": [
      "Qcodes Logfile : /home/runner/.qcodes/logs/240422-16133-qcodes.log\n"
     ]
    }
   ],
   "source": [
    "import os\n",
    "import time\n",
    "\n",
    "import numpy as np\n",
    "\n",
    "from qcodes.dataset import (\n",
    "    Measurement,\n",
    "    initialise_or_create_database_at,\n",
    "    load_or_create_experiment,\n",
    ")\n",
    "from qcodes.instrument_drivers.mock_instruments import DummyInstrument\n",
    "from qcodes.parameters import ArrayParameter"
   ]
  },
  {
   "cell_type": "code",
   "execution_count": 2,
   "metadata": {
    "execution": {
     "iopub.execute_input": "2024-04-22T23:25:35.455367Z",
     "iopub.status.busy": "2024-04-22T23:25:35.455008Z",
     "iopub.status.idle": "2024-04-22T23:25:35.491298Z",
     "shell.execute_reply": "2024-04-22T23:25:35.490728Z"
    }
   },
   "outputs": [],
   "source": [
    "initialise_or_create_database_at(os.path.join(os.getcwd(), 'paramtypes_explained.db'))\n",
    "exp = load_or_create_experiment('paramtypes', sample_name='not_available')"
   ]
  },
  {
   "cell_type": "markdown",
   "metadata": {},
   "source": [
    "Let us, now, create two dummy instruments to be used in our experiment."
   ]
  },
  {
   "cell_type": "code",
   "execution_count": 3,
   "metadata": {
    "execution": {
     "iopub.execute_input": "2024-04-22T23:25:35.493648Z",
     "iopub.status.busy": "2024-04-22T23:25:35.493302Z",
     "iopub.status.idle": "2024-04-22T23:25:35.497090Z",
     "shell.execute_reply": "2024-04-22T23:25:35.496479Z"
    }
   },
   "outputs": [],
   "source": [
    "dac = DummyInstrument('dac', gates=['ch1', 'ch2'])\n",
    "SA = DummyInstrument('SA')"
   ]
  },
  {
   "cell_type": "code",
   "execution_count": 4,
   "metadata": {
    "execution": {
     "iopub.execute_input": "2024-04-22T23:25:35.499499Z",
     "iopub.status.busy": "2024-04-22T23:25:35.499032Z",
     "iopub.status.idle": "2024-04-22T23:25:35.509555Z",
     "shell.execute_reply": "2024-04-22T23:25:35.508964Z"
    }
   },
   "outputs": [],
   "source": [
    "# some array-like data types\n",
    "\n",
    "\n",
    "class Spectrum(ArrayParameter):\n",
    "\n",
    "    def __init__(self, name, instrument):\n",
    "\n",
    "        self.N = 7\n",
    "        setpoints = (np.linspace(0, 1, self.N),)\n",
    "\n",
    "        super().__init__(name=name,\n",
    "                         instrument=instrument,\n",
    "                         setpoints=setpoints,\n",
    "                         shape=(20,),\n",
    "                         label='Noisy spectrum',\n",
    "                         unit='V/sqrt(Hz)',\n",
    "                         setpoint_names=('Frequency',),\n",
    "                         setpoint_units=('Hz',))\n",
    "\n",
    "    def get_raw(self):\n",
    "        return np.random.randn(self.N)\n",
    "\n",
    "\n",
    "class MultiDimSpectrum(ArrayParameter):\n",
    "\n",
    "    def __init__(self, name, instrument):\n",
    "        self.start = 0\n",
    "        self.stop = 1\n",
    "        self.npts = (2, 5, 3)\n",
    "        sp1 = np.linspace(self.start, self.stop,\n",
    "                          self.npts[0])\n",
    "        sp2 = np.linspace(self.start, self.stop,\n",
    "                          self.npts[1])\n",
    "        sp3 = np.linspace(self.start, self.stop,\n",
    "                          self.npts[2])\n",
    "        setpoints = (sp1,\n",
    "                     np.tile(sp2, (len(sp1), 1)),\n",
    "                     np.tile(sp3, (len(sp1), len(sp2), 1)))\n",
    "        super().__init__(name=name,\n",
    "                         instrument=instrument,\n",
    "                         setpoints=setpoints,\n",
    "                         shape=(100, 50, 20),\n",
    "                         label='Flower Power Spectrum in 3D',\n",
    "                         unit='V/sqrt(Hz)',\n",
    "                         setpoint_names=('Frequency0', 'Frequency1',\n",
    "                                         'Frequency2'),\n",
    "                             setpoint_units=('Hz', 'Other Hz', \"Third Hz\"))\n",
    "\n",
    "    def get_raw(self):\n",
    "        a = self.npts[0]\n",
    "        b = self.npts[1]\n",
    "        c = self.npts[2]\n",
    "        return np.reshape(np.arange(a*b*c), (a, b, c))\n",
    "\n",
    "# a string-valued parameter\n",
    "\n",
    "\n",
    "def dac1_too_high():\n",
    "    return 'Too high' if dac.ch1() > 5 else 'OK'"
   ]
  },
  {
   "cell_type": "markdown",
   "metadata": {},
   "source": [
    "Finally, we add our parameters to the dummy instruments:"
   ]
  },
  {
   "cell_type": "code",
   "execution_count": 5,
   "metadata": {
    "execution": {
     "iopub.execute_input": "2024-04-22T23:25:35.511985Z",
     "iopub.status.busy": "2024-04-22T23:25:35.511514Z",
     "iopub.status.idle": "2024-04-22T23:25:35.516275Z",
     "shell.execute_reply": "2024-04-22T23:25:35.515722Z"
    }
   },
   "outputs": [],
   "source": [
    "dac.add_parameter('control', get_cmd=dac1_too_high)\n",
    "SA.add_parameter('spectrum', parameter_class=Spectrum)\n",
    "SA.add_parameter('spectrum3D', parameter_class=MultiDimSpectrum)"
   ]
  },
  {
   "cell_type": "markdown",
   "metadata": {},
   "source": [
    "## Numeric"
   ]
  },
  {
   "cell_type": "markdown",
   "metadata": {},
   "source": [
    "The `numeric` datatype is simply a number. Data registered with this type are saved as individual numbers. This is the **default** datatype when registering parameters.\n",
    "\n",
    "### Numeric example 1\n",
    "\n",
    "In this example, all parameters get registered as `numeric` type. This entails that the array in unraveled and inserted point-by-point."
   ]
  },
  {
   "cell_type": "code",
   "execution_count": 6,
   "metadata": {
    "execution": {
     "iopub.execute_input": "2024-04-22T23:25:35.518695Z",
     "iopub.status.busy": "2024-04-22T23:25:35.518182Z",
     "iopub.status.idle": "2024-04-22T23:25:35.544075Z",
     "shell.execute_reply": "2024-04-22T23:25:35.543502Z"
    }
   },
   "outputs": [
    {
     "name": "stdout",
     "output_type": "stream",
     "text": [
      "Starting experimental run with id: 1. \n",
      "Finished run in 0.021 s\n"
     ]
    }
   ],
   "source": [
    "meas = Measurement(exp=exp)\n",
    "meas.register_parameter(dac.ch1)\n",
    "meas.register_parameter(SA.spectrum, setpoints=(dac.ch1,))\n",
    "\n",
    "t0 = time.perf_counter()\n",
    "\n",
    "with meas.run() as datasaver:\n",
    "    for dac_v in np.linspace(0, 2, 5):\n",
    "        dac.ch1(dac_v)\n",
    "        datasaver.add_result((dac.ch1, dac_v), (SA.spectrum, SA.spectrum()))\n",
    "\n",
    "t1 = time.perf_counter()\n",
    "\n",
    "print(f'Finished run in {(t1-t0):.3f} s')\n",
    "\n",
    "dataset1 = datasaver.dataset"
   ]
  },
  {
   "cell_type": "markdown",
   "metadata": {},
   "source": [
    "The data may be retrieved using the `get_parameter_data` method. This function will bring back the data in a way that reflects the datastructure as it is stored."
   ]
  },
  {
   "cell_type": "code",
   "execution_count": 7,
   "metadata": {
    "execution": {
     "iopub.execute_input": "2024-04-22T23:25:35.546406Z",
     "iopub.status.busy": "2024-04-22T23:25:35.546239Z",
     "iopub.status.idle": "2024-04-22T23:25:35.555056Z",
     "shell.execute_reply": "2024-04-22T23:25:35.554480Z"
    }
   },
   "outputs": [
    {
     "data": {
      "text/plain": [
       "{'SA_spectrum': {'SA_spectrum': array([[ 0.77182933, -0.73194128, -0.41245503,  1.50042887, -0.67359253,\n",
       "          -0.24878971, -0.21104133],\n",
       "         [-1.95385059, -1.34900612, -0.27115558, -0.70257405,  0.84297128,\n",
       "          -0.92986098, -1.15237101],\n",
       "         [ 0.15575201,  0.1168976 ,  0.73547907,  0.14218819, -0.01709024,\n",
       "           0.04389004, -1.01195022],\n",
       "         [-0.1386106 ,  0.57157271,  1.65089435, -0.29884784,  1.95033466,\n",
       "           0.267102  ,  0.27687798],\n",
       "         [-0.29008496,  1.13197386,  0.38552857, -0.81512184, -0.43844942,\n",
       "          -0.92118535,  1.78630742]]),\n",
       "  'dac_ch1': array([[0. , 0. , 0. , 0. , 0. , 0. , 0. ],\n",
       "         [0.5, 0.5, 0.5, 0.5, 0.5, 0.5, 0.5],\n",
       "         [1. , 1. , 1. , 1. , 1. , 1. , 1. ],\n",
       "         [1.5, 1.5, 1.5, 1.5, 1.5, 1.5, 1.5],\n",
       "         [2. , 2. , 2. , 2. , 2. , 2. , 2. ]]),\n",
       "  'SA_Frequency': array([[0.        , 0.16666667, 0.33333333, 0.5       , 0.66666667,\n",
       "          0.83333333, 1.        ],\n",
       "         [0.        , 0.16666667, 0.33333333, 0.5       , 0.66666667,\n",
       "          0.83333333, 1.        ],\n",
       "         [0.        , 0.16666667, 0.33333333, 0.5       , 0.66666667,\n",
       "          0.83333333, 1.        ],\n",
       "         [0.        , 0.16666667, 0.33333333, 0.5       , 0.66666667,\n",
       "          0.83333333, 1.        ],\n",
       "         [0.        , 0.16666667, 0.33333333, 0.5       , 0.66666667,\n",
       "          0.83333333, 1.        ]])}}"
      ]
     },
     "execution_count": 7,
     "metadata": {},
     "output_type": "execute_result"
    }
   ],
   "source": [
    "dataset1.get_parameter_data()"
   ]
  },
  {
   "cell_type": "markdown",
   "metadata": {},
   "source": [
    "## Array\n",
    "\n",
    "The `array` paramtype stores data as binary blobs in the database. Insertion is faster (asymptotically **much** faster) this way, but the data are \"dead\" to SQL queries inside the database. Be informed that a BLOB in sqlite has a default max length limit set at 1 billion (1,000,000,000) bytes (for more information, refer to [Sqlite](https://sqlite.org/limits.html) docs)."
   ]
  },
  {
   "cell_type": "markdown",
   "metadata": {},
   "source": [
    "### Array example 1\n",
    "\n",
    "Let us repeat the above measurement, but this time using `array` paramtypes."
   ]
  },
  {
   "cell_type": "code",
   "execution_count": 8,
   "metadata": {
    "execution": {
     "iopub.execute_input": "2024-04-22T23:25:35.557118Z",
     "iopub.status.busy": "2024-04-22T23:25:35.556938Z",
     "iopub.status.idle": "2024-04-22T23:25:35.574468Z",
     "shell.execute_reply": "2024-04-22T23:25:35.573914Z"
    }
   },
   "outputs": [
    {
     "name": "stdout",
     "output_type": "stream",
     "text": [
      "Starting experimental run with id: 2. \n",
      "Finished run in 0.012 s\n"
     ]
    }
   ],
   "source": [
    "meas = Measurement(exp=exp)\n",
    "meas.register_parameter(dac.ch1)\n",
    "meas.register_parameter(SA.spectrum, setpoints=(dac.ch1,), paramtype='array')\n",
    "\n",
    "t0 = time.perf_counter()\n",
    "\n",
    "with meas.run() as datasaver:\n",
    "    for dac_v in np.linspace(0, 2, 5):\n",
    "        dac.ch1(dac_v)\n",
    "        datasaver.add_result((dac.ch1, dac_v), (SA.spectrum, SA.spectrum()))\n",
    "\n",
    "t1 = time.perf_counter()\n",
    "\n",
    "print(f'Finished run in {(t1-t0):.3f} s')\n",
    "\n",
    "dataset2 = datasaver.dataset"
   ]
  },
  {
   "cell_type": "code",
   "execution_count": 9,
   "metadata": {
    "execution": {
     "iopub.execute_input": "2024-04-22T23:25:35.576760Z",
     "iopub.status.busy": "2024-04-22T23:25:35.576351Z",
     "iopub.status.idle": "2024-04-22T23:25:35.584338Z",
     "shell.execute_reply": "2024-04-22T23:25:35.583813Z"
    }
   },
   "outputs": [
    {
     "data": {
      "text/plain": [
       "{'SA_spectrum': {'SA_spectrum': array([[-1.98245515,  2.783622  , -0.21358682, -0.89440479,  0.69097141,\n",
       "           0.91669782, -1.23620353],\n",
       "         [-1.25367057, -1.72188382, -0.46253203,  1.1434654 ,  0.17596288,\n",
       "          -0.22852744, -0.95710249],\n",
       "         [ 0.89504237,  0.89377677,  0.49726361, -0.98108135, -0.43688905,\n",
       "          -0.42477815, -0.46427645],\n",
       "         [ 1.43915586,  1.12582172,  0.53757068, -1.67022575,  0.74872681,\n",
       "          -0.4194297 ,  2.34096987],\n",
       "         [-0.11084076,  2.0012951 , -1.65068198, -0.46367719,  0.66502058,\n",
       "          -0.78287928, -0.74936416]]),\n",
       "  'dac_ch1': array([[0. , 0. , 0. , 0. , 0. , 0. , 0. ],\n",
       "         [0.5, 0.5, 0.5, 0.5, 0.5, 0.5, 0.5],\n",
       "         [1. , 1. , 1. , 1. , 1. , 1. , 1. ],\n",
       "         [1.5, 1.5, 1.5, 1.5, 1.5, 1.5, 1.5],\n",
       "         [2. , 2. , 2. , 2. , 2. , 2. , 2. ]]),\n",
       "  'SA_Frequency': array([[0.        , 0.16666667, 0.33333333, 0.5       , 0.66666667,\n",
       "          0.83333333, 1.        ],\n",
       "         [0.        , 0.16666667, 0.33333333, 0.5       , 0.66666667,\n",
       "          0.83333333, 1.        ],\n",
       "         [0.        , 0.16666667, 0.33333333, 0.5       , 0.66666667,\n",
       "          0.83333333, 1.        ],\n",
       "         [0.        , 0.16666667, 0.33333333, 0.5       , 0.66666667,\n",
       "          0.83333333, 1.        ],\n",
       "         [0.        , 0.16666667, 0.33333333, 0.5       , 0.66666667,\n",
       "          0.83333333, 1.        ]])}}"
      ]
     },
     "execution_count": 9,
     "metadata": {},
     "output_type": "execute_result"
    }
   ],
   "source": [
    "dataset2.get_parameter_data()"
   ]
  },
  {
   "cell_type": "markdown",
   "metadata": {},
   "source": [
    "### Array example 2\n",
    "\n",
    "When storing multidimensional `array` data (think: Alazar cards), both `numeric` and `array` types can be used."
   ]
  },
  {
   "cell_type": "code",
   "execution_count": 10,
   "metadata": {
    "execution": {
     "iopub.execute_input": "2024-04-22T23:25:35.586734Z",
     "iopub.status.busy": "2024-04-22T23:25:35.586329Z",
     "iopub.status.idle": "2024-04-22T23:25:35.602272Z",
     "shell.execute_reply": "2024-04-22T23:25:35.601708Z"
    }
   },
   "outputs": [
    {
     "name": "stdout",
     "output_type": "stream",
     "text": [
      "Starting experimental run with id: 3. \n"
     ]
    }
   ],
   "source": [
    "meas = Measurement(exp=exp)\n",
    "meas.register_parameter(SA.spectrum3D, paramtype='array')\n",
    "\n",
    "with meas.run() as datasaver:\n",
    "    datasaver.add_result((SA.spectrum3D, SA.spectrum3D()))\n",
    "dataset3 = datasaver.dataset"
   ]
  },
  {
   "cell_type": "markdown",
   "metadata": {},
   "source": [
    "The data come out the way we expect them to."
   ]
  },
  {
   "cell_type": "code",
   "execution_count": 11,
   "metadata": {
    "execution": {
     "iopub.execute_input": "2024-04-22T23:25:35.604503Z",
     "iopub.status.busy": "2024-04-22T23:25:35.604336Z",
     "iopub.status.idle": "2024-04-22T23:25:35.610435Z",
     "shell.execute_reply": "2024-04-22T23:25:35.609812Z"
    }
   },
   "outputs": [
    {
     "data": {
      "text/plain": [
       "{'SA_spectrum3D': {'SA_spectrum3D': array([[[[ 0,  1,  2],\n",
       "           [ 3,  4,  5],\n",
       "           [ 6,  7,  8],\n",
       "           [ 9, 10, 11],\n",
       "           [12, 13, 14]],\n",
       "  \n",
       "          [[15, 16, 17],\n",
       "           [18, 19, 20],\n",
       "           [21, 22, 23],\n",
       "           [24, 25, 26],\n",
       "           [27, 28, 29]]]]),\n",
       "  'SA_Frequency0': array([[[[0., 0., 0.],\n",
       "           [0., 0., 0.],\n",
       "           [0., 0., 0.],\n",
       "           [0., 0., 0.],\n",
       "           [0., 0., 0.]],\n",
       "  \n",
       "          [[1., 1., 1.],\n",
       "           [1., 1., 1.],\n",
       "           [1., 1., 1.],\n",
       "           [1., 1., 1.],\n",
       "           [1., 1., 1.]]]]),\n",
       "  'SA_Frequency1': array([[[[0.  , 0.  , 0.  ],\n",
       "           [0.25, 0.25, 0.25],\n",
       "           [0.5 , 0.5 , 0.5 ],\n",
       "           [0.75, 0.75, 0.75],\n",
       "           [1.  , 1.  , 1.  ]],\n",
       "  \n",
       "          [[0.  , 0.  , 0.  ],\n",
       "           [0.25, 0.25, 0.25],\n",
       "           [0.5 , 0.5 , 0.5 ],\n",
       "           [0.75, 0.75, 0.75],\n",
       "           [1.  , 1.  , 1.  ]]]]),\n",
       "  'SA_Frequency2': array([[[[0. , 0.5, 1. ],\n",
       "           [0. , 0.5, 1. ],\n",
       "           [0. , 0.5, 1. ],\n",
       "           [0. , 0.5, 1. ],\n",
       "           [0. , 0.5, 1. ]],\n",
       "  \n",
       "          [[0. , 0.5, 1. ],\n",
       "           [0. , 0.5, 1. ],\n",
       "           [0. , 0.5, 1. ],\n",
       "           [0. , 0.5, 1. ],\n",
       "           [0. , 0.5, 1. ]]]])}}"
      ]
     },
     "execution_count": 11,
     "metadata": {},
     "output_type": "execute_result"
    }
   ],
   "source": [
    "dataset3.get_parameter_data()"
   ]
  },
  {
   "cell_type": "markdown",
   "metadata": {},
   "source": [
    "### Array example 3\n",
    "\n",
    "For completeness, here, we provide an example where the multidimensional array has an auxiliary setpoint."
   ]
  },
  {
   "cell_type": "code",
   "execution_count": 12,
   "metadata": {
    "execution": {
     "iopub.execute_input": "2024-04-22T23:25:35.612455Z",
     "iopub.status.busy": "2024-04-22T23:25:35.612286Z",
     "iopub.status.idle": "2024-04-22T23:25:35.630272Z",
     "shell.execute_reply": "2024-04-22T23:25:35.629701Z"
    }
   },
   "outputs": [
    {
     "name": "stdout",
     "output_type": "stream",
     "text": [
      "Starting experimental run with id: 4. \n"
     ]
    }
   ],
   "source": [
    "meas = Measurement(exp=exp)\n",
    "meas.register_parameter(dac.ch1)\n",
    "meas.register_parameter(SA.spectrum3D, paramtype='array', setpoints=(dac.ch1,))\n",
    "\n",
    "with meas.run() as datasaver:\n",
    "    for dac_v in [3, 4, 5]:\n",
    "        dac.ch1(dac_v)\n",
    "        datasaver.add_result((dac.ch1, dac_v),\n",
    "                             (SA.spectrum3D, SA.spectrum3D()))\n",
    "dataset4 = datasaver.dataset"
   ]
  },
  {
   "cell_type": "code",
   "execution_count": 13,
   "metadata": {
    "execution": {
     "iopub.execute_input": "2024-04-22T23:25:35.632651Z",
     "iopub.status.busy": "2024-04-22T23:25:35.632313Z",
     "iopub.status.idle": "2024-04-22T23:25:35.640971Z",
     "shell.execute_reply": "2024-04-22T23:25:35.640392Z"
    }
   },
   "outputs": [
    {
     "data": {
      "text/plain": [
       "{'SA_spectrum3D': {'SA_spectrum3D': array([[[[ 0,  1,  2],\n",
       "           [ 3,  4,  5],\n",
       "           [ 6,  7,  8],\n",
       "           [ 9, 10, 11],\n",
       "           [12, 13, 14]],\n",
       "  \n",
       "          [[15, 16, 17],\n",
       "           [18, 19, 20],\n",
       "           [21, 22, 23],\n",
       "           [24, 25, 26],\n",
       "           [27, 28, 29]]],\n",
       "  \n",
       "  \n",
       "         [[[ 0,  1,  2],\n",
       "           [ 3,  4,  5],\n",
       "           [ 6,  7,  8],\n",
       "           [ 9, 10, 11],\n",
       "           [12, 13, 14]],\n",
       "  \n",
       "          [[15, 16, 17],\n",
       "           [18, 19, 20],\n",
       "           [21, 22, 23],\n",
       "           [24, 25, 26],\n",
       "           [27, 28, 29]]],\n",
       "  \n",
       "  \n",
       "         [[[ 0,  1,  2],\n",
       "           [ 3,  4,  5],\n",
       "           [ 6,  7,  8],\n",
       "           [ 9, 10, 11],\n",
       "           [12, 13, 14]],\n",
       "  \n",
       "          [[15, 16, 17],\n",
       "           [18, 19, 20],\n",
       "           [21, 22, 23],\n",
       "           [24, 25, 26],\n",
       "           [27, 28, 29]]]]),\n",
       "  'dac_ch1': array([[[[3., 3., 3.],\n",
       "           [3., 3., 3.],\n",
       "           [3., 3., 3.],\n",
       "           [3., 3., 3.],\n",
       "           [3., 3., 3.]],\n",
       "  \n",
       "          [[3., 3., 3.],\n",
       "           [3., 3., 3.],\n",
       "           [3., 3., 3.],\n",
       "           [3., 3., 3.],\n",
       "           [3., 3., 3.]]],\n",
       "  \n",
       "  \n",
       "         [[[4., 4., 4.],\n",
       "           [4., 4., 4.],\n",
       "           [4., 4., 4.],\n",
       "           [4., 4., 4.],\n",
       "           [4., 4., 4.]],\n",
       "  \n",
       "          [[4., 4., 4.],\n",
       "           [4., 4., 4.],\n",
       "           [4., 4., 4.],\n",
       "           [4., 4., 4.],\n",
       "           [4., 4., 4.]]],\n",
       "  \n",
       "  \n",
       "         [[[5., 5., 5.],\n",
       "           [5., 5., 5.],\n",
       "           [5., 5., 5.],\n",
       "           [5., 5., 5.],\n",
       "           [5., 5., 5.]],\n",
       "  \n",
       "          [[5., 5., 5.],\n",
       "           [5., 5., 5.],\n",
       "           [5., 5., 5.],\n",
       "           [5., 5., 5.],\n",
       "           [5., 5., 5.]]]]),\n",
       "  'SA_Frequency0': array([[[[0., 0., 0.],\n",
       "           [0., 0., 0.],\n",
       "           [0., 0., 0.],\n",
       "           [0., 0., 0.],\n",
       "           [0., 0., 0.]],\n",
       "  \n",
       "          [[1., 1., 1.],\n",
       "           [1., 1., 1.],\n",
       "           [1., 1., 1.],\n",
       "           [1., 1., 1.],\n",
       "           [1., 1., 1.]]],\n",
       "  \n",
       "  \n",
       "         [[[0., 0., 0.],\n",
       "           [0., 0., 0.],\n",
       "           [0., 0., 0.],\n",
       "           [0., 0., 0.],\n",
       "           [0., 0., 0.]],\n",
       "  \n",
       "          [[1., 1., 1.],\n",
       "           [1., 1., 1.],\n",
       "           [1., 1., 1.],\n",
       "           [1., 1., 1.],\n",
       "           [1., 1., 1.]]],\n",
       "  \n",
       "  \n",
       "         [[[0., 0., 0.],\n",
       "           [0., 0., 0.],\n",
       "           [0., 0., 0.],\n",
       "           [0., 0., 0.],\n",
       "           [0., 0., 0.]],\n",
       "  \n",
       "          [[1., 1., 1.],\n",
       "           [1., 1., 1.],\n",
       "           [1., 1., 1.],\n",
       "           [1., 1., 1.],\n",
       "           [1., 1., 1.]]]]),\n",
       "  'SA_Frequency1': array([[[[0.  , 0.  , 0.  ],\n",
       "           [0.25, 0.25, 0.25],\n",
       "           [0.5 , 0.5 , 0.5 ],\n",
       "           [0.75, 0.75, 0.75],\n",
       "           [1.  , 1.  , 1.  ]],\n",
       "  \n",
       "          [[0.  , 0.  , 0.  ],\n",
       "           [0.25, 0.25, 0.25],\n",
       "           [0.5 , 0.5 , 0.5 ],\n",
       "           [0.75, 0.75, 0.75],\n",
       "           [1.  , 1.  , 1.  ]]],\n",
       "  \n",
       "  \n",
       "         [[[0.  , 0.  , 0.  ],\n",
       "           [0.25, 0.25, 0.25],\n",
       "           [0.5 , 0.5 , 0.5 ],\n",
       "           [0.75, 0.75, 0.75],\n",
       "           [1.  , 1.  , 1.  ]],\n",
       "  \n",
       "          [[0.  , 0.  , 0.  ],\n",
       "           [0.25, 0.25, 0.25],\n",
       "           [0.5 , 0.5 , 0.5 ],\n",
       "           [0.75, 0.75, 0.75],\n",
       "           [1.  , 1.  , 1.  ]]],\n",
       "  \n",
       "  \n",
       "         [[[0.  , 0.  , 0.  ],\n",
       "           [0.25, 0.25, 0.25],\n",
       "           [0.5 , 0.5 , 0.5 ],\n",
       "           [0.75, 0.75, 0.75],\n",
       "           [1.  , 1.  , 1.  ]],\n",
       "  \n",
       "          [[0.  , 0.  , 0.  ],\n",
       "           [0.25, 0.25, 0.25],\n",
       "           [0.5 , 0.5 , 0.5 ],\n",
       "           [0.75, 0.75, 0.75],\n",
       "           [1.  , 1.  , 1.  ]]]]),\n",
       "  'SA_Frequency2': array([[[[0. , 0.5, 1. ],\n",
       "           [0. , 0.5, 1. ],\n",
       "           [0. , 0.5, 1. ],\n",
       "           [0. , 0.5, 1. ],\n",
       "           [0. , 0.5, 1. ]],\n",
       "  \n",
       "          [[0. , 0.5, 1. ],\n",
       "           [0. , 0.5, 1. ],\n",
       "           [0. , 0.5, 1. ],\n",
       "           [0. , 0.5, 1. ],\n",
       "           [0. , 0.5, 1. ]]],\n",
       "  \n",
       "  \n",
       "         [[[0. , 0.5, 1. ],\n",
       "           [0. , 0.5, 1. ],\n",
       "           [0. , 0.5, 1. ],\n",
       "           [0. , 0.5, 1. ],\n",
       "           [0. , 0.5, 1. ]],\n",
       "  \n",
       "          [[0. , 0.5, 1. ],\n",
       "           [0. , 0.5, 1. ],\n",
       "           [0. , 0.5, 1. ],\n",
       "           [0. , 0.5, 1. ],\n",
       "           [0. , 0.5, 1. ]]],\n",
       "  \n",
       "  \n",
       "         [[[0. , 0.5, 1. ],\n",
       "           [0. , 0.5, 1. ],\n",
       "           [0. , 0.5, 1. ],\n",
       "           [0. , 0.5, 1. ],\n",
       "           [0. , 0.5, 1. ]],\n",
       "  \n",
       "          [[0. , 0.5, 1. ],\n",
       "           [0. , 0.5, 1. ],\n",
       "           [0. , 0.5, 1. ],\n",
       "           [0. , 0.5, 1. ],\n",
       "           [0. , 0.5, 1. ]]]])}}"
      ]
     },
     "execution_count": 13,
     "metadata": {},
     "output_type": "execute_result"
    }
   ],
   "source": [
    "dataset4.get_parameter_data()"
   ]
  },
  {
   "cell_type": "markdown",
   "metadata": {},
   "source": [
    "## Text\n",
    "\n",
    "Text is strings. Sometimes it may be useful to capture categorial data that is represented as string values, or a log message, or else.\n",
    "\n",
    "Note that the `paramtype` setting is important. The datasaver will not allow to save `numeric` data for a parameter that was registered as `text`. The opposite it also true: the datasaver will not allow to save strings for a parameter what was registered as non-`text` (`numeric` or `array`)."
   ]
  },
  {
   "cell_type": "code",
   "execution_count": 14,
   "metadata": {
    "execution": {
     "iopub.execute_input": "2024-04-22T23:25:35.643011Z",
     "iopub.status.busy": "2024-04-22T23:25:35.642844Z",
     "iopub.status.idle": "2024-04-22T23:25:35.658136Z",
     "shell.execute_reply": "2024-04-22T23:25:35.657553Z"
    }
   },
   "outputs": [
    {
     "name": "stdout",
     "output_type": "stream",
     "text": [
      "Starting experimental run with id: 5. \n"
     ]
    }
   ],
   "source": [
    "meas = Measurement(exp=exp)\n",
    "meas.register_parameter(dac.ch1)\n",
    "meas.register_parameter(dac.control, setpoints=(dac.ch1,), paramtype='text')\n",
    "\n",
    "with meas.run() as datasaver:\n",
    "    for dac_v in np.linspace(4, 6, 10):\n",
    "        dac.ch1(dac_v)\n",
    "        datasaver.add_result((dac.ch1, dac_v),\n",
    "                             (dac.control, dac.control()))\n",
    "dataset5 = datasaver.dataset"
   ]
  },
  {
   "cell_type": "code",
   "execution_count": 15,
   "metadata": {
    "execution": {
     "iopub.execute_input": "2024-04-22T23:25:35.660050Z",
     "iopub.status.busy": "2024-04-22T23:25:35.659882Z",
     "iopub.status.idle": "2024-04-22T23:25:35.664857Z",
     "shell.execute_reply": "2024-04-22T23:25:35.664248Z"
    }
   },
   "outputs": [
    {
     "data": {
      "text/plain": [
       "{'dac_control': {'dac_control': array(['OK', 'OK', 'OK', 'OK', 'OK', 'Too high', 'Too high', 'Too high',\n",
       "         'Too high', 'Too high'], dtype='<U8'),\n",
       "  'dac_ch1': array([4.        , 4.22222222, 4.44444444, 4.66666667, 4.88888889,\n",
       "         5.11111111, 5.33333333, 5.55555556, 5.77777778, 6.        ])}}"
      ]
     },
     "execution_count": 15,
     "metadata": {},
     "output_type": "execute_result"
    }
   ],
   "source": [
    "dataset5.get_parameter_data()"
   ]
  },
  {
   "cell_type": "code",
   "execution_count": null,
   "metadata": {},
   "outputs": [],
   "source": []
  }
 ],
 "metadata": {
  "kernelspec": {
   "display_name": "Python 3",
   "language": "python",
   "name": "python3"
  },
  "language_info": {
   "codemirror_mode": {
    "name": "ipython",
    "version": 3
   },
   "file_extension": ".py",
   "mimetype": "text/x-python",
   "name": "python",
   "nbconvert_exporter": "python",
   "pygments_lexer": "ipython3",
   "version": "3.11.9"
  }
 },
 "nbformat": 4,
 "nbformat_minor": 4
}
